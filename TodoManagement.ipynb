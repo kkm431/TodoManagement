{
  "nbformat": 4,
  "nbformat_minor": 0,
  "metadata": {
    "colab": {
      "provenance": []
    },
    "kernelspec": {
      "name": "python3",
      "display_name": "Python 3"
    },
    "language_info": {
      "name": "python"
    }
  },
  "cells": [
    {
      "cell_type": "code",
      "source": [
        "import os\n",
        "import sys"
      ],
      "metadata": {
        "id": "Wk80U79pb-U8"
      },
      "execution_count": 18,
      "outputs": []
    },
    {
      "cell_type": "code",
      "source": [
        "# Define Task class\n",
        "class Task:\n",
        "    def __init__(self, description, deadline=None, completed=False):\n",
        "        self.description = description\n",
        "        self.deadline = deadline\n",
        "        self.completed = completed\n",
        "\n",
        "    def __str__(self):\n",
        "        return f\"[{'X' if self.completed else ' '}] {self.description} - {self.deadline if self.deadline else 'No Deadline'}\""
      ],
      "metadata": {
        "id": "WR4y2a9mh5Mn"
      },
      "execution_count": 19,
      "outputs": []
    },
    {
      "cell_type": "code",
      "source": [
        "# Functions to manage the to-do list\n",
        "def load_tasks(filename=\"tasks.txt\"):\n",
        "    tasks = []\n",
        "    if os.path.exists(filename):\n",
        "        with open(filename, 'r') as file:\n",
        "            for line in file:\n",
        "                # Ensure there are at least two values (description and completed status)\n",
        "                parts = line.strip().split(\"|\")\n",
        "                if len(parts) == 2:\n",
        "                    description, completed = parts\n",
        "                    deadline = None  # No deadline provided\n",
        "                elif len(parts) == 3:\n",
        "                    description, deadline, completed = parts\n",
        "                else:\n",
        "                    continue  # Skip malformed lines\n",
        "                tasks.append(Task(description, deadline, completed == \"True\"))\n",
        "    return tasks"
      ],
      "metadata": {
        "id": "xKffHDTZf8JB"
      },
      "execution_count": 20,
      "outputs": []
    },
    {
      "cell_type": "code",
      "source": [
        "def save_tasks(tasks, filename=\"tasks.txt\"):\n",
        "    with open(filename, 'w') as file:\n",
        "        for task in tasks:\n",
        "            file.write(f\"{task.description}|{task.deadline}|{task.completed}\\n\")\n"
      ],
      "metadata": {
        "id": "7WMQOjNHhcyV"
      },
      "execution_count": 21,
      "outputs": []
    },
    {
      "cell_type": "code",
      "source": [
        "def add_task(tasks, description, deadline=None):\n",
        "    tasks.append(Task(description, deadline))\n"
      ],
      "metadata": {
        "id": "_0MR3S7lhezk"
      },
      "execution_count": 22,
      "outputs": []
    },
    {
      "cell_type": "code",
      "source": [
        "def delete_task(tasks, index):\n",
        "    if 0 <= index < len(tasks):\n",
        "        tasks.pop(index)\n",
        "    else:\n",
        "        print(\"Task not found.\")\n"
      ],
      "metadata": {
        "id": "tEYoQ8V1hfL4"
      },
      "execution_count": 23,
      "outputs": []
    },
    {
      "cell_type": "code",
      "source": [
        "def edit_task(tasks, index, new_description, new_deadline=None):\n",
        "    if 0 <= index < len(tasks):\n",
        "        tasks[index].description = new_description\n",
        "        tasks[index].deadline = new_deadline\n",
        "    else:\n",
        "        print(\"Task not found.\")\n"
      ],
      "metadata": {
        "id": "Ns8IuoxGhjrP"
      },
      "execution_count": 24,
      "outputs": []
    },
    {
      "cell_type": "code",
      "source": [
        "def mark_task_completed(tasks, index):\n",
        "    if 0 <= index < len(tasks):\n",
        "        tasks[index].completed = True\n",
        "    else:\n",
        "        print(\"Task not found.\")\n"
      ],
      "metadata": {
        "id": "hQVdfZn8hlXh"
      },
      "execution_count": 25,
      "outputs": []
    },
    {
      "cell_type": "code",
      "source": [
        "def display_tasks(tasks):\n",
        "    if not tasks:\n",
        "        print(\"No tasks available.\")\n",
        "    else:\n",
        "        for idx, task in enumerate(tasks):\n",
        "            print(f\"{idx + 1}. {task}\")\n"
      ],
      "metadata": {
        "id": "O2a3m5MqhnKt"
      },
      "execution_count": 26,
      "outputs": []
    },
    {
      "cell_type": "code",
      "source": [
        "def authenticate_user():\n",
        "    # Simple user authentication using a file\n",
        "    print(\"Welcome to Task Management System!\")\n",
        "    if os.path.exists('user.txt'):\n",
        "        username, password = open('user.txt', 'r').read().splitlines()\n",
        "        print(\"Please log in:\")\n",
        "        entered_username = input(\"Username: \")\n",
        "        entered_password = input(\"Password: \")\n",
        "\n",
        "        if entered_username == username and entered_password == password:\n",
        "            print(\"Login successful!\")\n",
        "            return True\n",
        "        else:\n",
        "            print(\"Invalid credentials.\")\n",
        "            return False\n",
        "    else:\n",
        "        print(\"No user found. Please register first.\")\n",
        "        return False\n"
      ],
      "metadata": {
        "id": "C_JCY5BMhndy"
      },
      "execution_count": 27,
      "outputs": []
    },
    {
      "cell_type": "code",
      "source": [
        "def create_new_user():\n",
        "    # Simple user creation\n",
        "    print(\"Please create a new account:\")\n",
        "    username = input(\"Username: \")\n",
        "    password = input(\"Password: \")\n",
        "\n",
        "    with open('user.txt', 'w') as file:\n",
        "        file.write(f\"{username}\\n{password}\")\n",
        "\n",
        "    print(\"User account created successfully.\")\n"
      ],
      "metadata": {
        "id": "dKwCOy7ZhrN5"
      },
      "execution_count": 28,
      "outputs": []
    },
    {
      "cell_type": "code",
      "source": [
        "def main():\n",
        "    # Check if user exists or needs to create an account\n",
        "    if not os.path.exists('user.txt'):\n",
        "        create_new_user()\n",
        "\n",
        "    if not authenticate_user():\n",
        "        return\n",
        "\n",
        "    tasks = load_tasks()\n",
        "\n",
        "    def view_tasks():\n",
        "        display_tasks(tasks)\n",
        "\n",
        "    def add_new_task():\n",
        "        description = input(\"Enter task description: \")\n",
        "        deadline = input(\"Enter task deadline (optional): \")\n",
        "        add_task(tasks, description, deadline)\n",
        "        save_tasks(tasks)\n",
        "\n",
        "    def delete_existing_task():\n",
        "        display_tasks(tasks)\n",
        "        try:\n",
        "            index = int(input(\"Enter task number to delete: \")) - 1\n",
        "            delete_task(tasks, index)\n",
        "            save_tasks(tasks)\n",
        "        except ValueError:\n",
        "            print(\"Invalid input.\")\n",
        "\n",
        "    def edit_existing_task():\n",
        "        display_tasks(tasks)\n",
        "        try:\n",
        "            index = int(input(\"Enter task number to edit: \")) - 1\n",
        "            new_description = input(\"Enter new task description: \")\n",
        "            new_deadline = input(\"Enter new task deadline (optional): \")\n",
        "            edit_task(tasks, index, new_description, new_deadline)\n",
        "            save_tasks(tasks)\n",
        "        except ValueError:\n",
        "            print(\"Invalid input.\")\n",
        "\n",
        "    def mark_task_as_completed():\n",
        "        display_tasks(tasks)\n",
        "        try:\n",
        "            index = int(input(\"Enter task number to mark as completed: \")) - 1\n",
        "            mark_task_completed(tasks, index)\n",
        "            save_tasks(tasks)\n",
        "        except ValueError:\n",
        "            print(\"Invalid input.\")\n",
        "\n",
        "    def exit_program():\n",
        "        save_tasks(tasks)\n",
        "        print(\"Goodbye!\")\n",
        "        sys.exit()\n",
        "\n",
        "    # Create a dictionary to map user input to functions (Simulate switch-case)\n",
        "    switch = {\n",
        "        \"1\": view_tasks,\n",
        "        \"2\": add_new_task,\n",
        "        \"3\": delete_existing_task,\n",
        "        \"4\": edit_existing_task,\n",
        "        \"5\": mark_task_as_completed,\n",
        "        \"6\": exit_program,\n",
        "    }\n",
        "\n",
        "    while True:\n",
        "        print(\"\\n--- To-Do List ---\")\n",
        "        print(\"1. View Tasks\")\n",
        "        print(\"2. Add Task\")\n",
        "        print(\"3. Delete Task\")\n",
        "        print(\"4. Edit Task\")\n",
        "        print(\"5. Mark Task Completed\")\n",
        "        print(\"6. Exit\")\n",
        "\n",
        "        choice = input(\"Choose an option: \")\n",
        "\n",
        "        # Call the corresponding function based on user input\n",
        "        action = switch.get(choice)\n",
        "        if action:\n",
        "            action()\n",
        "        else:\n",
        "            print(\"Invalid option, try again.\")"
      ],
      "metadata": {
        "id": "RgqP6hj6hs3B"
      },
      "execution_count": 29,
      "outputs": []
    },
    {
      "cell_type": "code",
      "source": [
        "if __name__ == \"__main__\":\n",
        "    main()\n"
      ],
      "metadata": {
        "id": "Zlkq7lwChuIj"
      },
      "execution_count": null,
      "outputs": []
    }
  ]
}